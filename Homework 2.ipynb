{
 "cells": [
  {
   "cell_type": "markdown",
   "metadata": {},
   "source": [
    "# Homework 2\n",
    "\n",
    "## Lectures 3-4\n",
    "\n"
   ]
  },
  {
   "cell_type": "markdown",
   "metadata": {},
   "source": [
    "### Hoeffding Inequality\n",
    "\n",
    "Run a computer simulation for flipping $1000$ virtual fair coins.\n",
    "\n",
    "Flip each coin independently $10$ times.\n",
    "\n",
    "Focus on 3 coins as follows:\n",
    "* $c_1$ is the first coin flipped,\n",
    "* $c_{rand}$ is a coin chosen randomly from the $1000$,\n",
    "* and $c_{min}$ is the coin which had the minimum frequency of heads (pick the earlier one in case of a tie).\n",
    "\n",
    "Let $ν_{1}$, $ν_{rand}$, and $ν_{min}$ be the fraction of heads obtained for the 3 respective coins out of the $10$ tosses.\n",
    "\n",
    "Run the experiment $100000$ times in order to get a full distribution of $ν_1$, $ν_{rand}$, and $ν_{min}$ (note that $c_{rand}$ and $c_{min}$ will change from run to run)."
   ]
  },
  {
   "cell_type": "code",
   "execution_count": 23,
   "metadata": {
    "ExecuteTime": {
     "end_time": "2020-04-09T00:05:11.883913Z",
     "start_time": "2020-04-09T00:05:11.866Z"
    }
   },
   "outputs": [],
   "source": [
    "flip_coin <- function(tosses=10){\n",
    "    return(rbinom(tosses, 1, prob=0.5))\n",
    "}"
   ]
  },
  {
   "cell_type": "code",
   "execution_count": 118,
   "metadata": {
    "ExecuteTime": {
     "end_time": "2020-04-09T00:43:39.903789Z",
     "start_time": "2020-04-09T00:43:39.885Z"
    }
   },
   "outputs": [],
   "source": [
    "flip_k_coins <- function(k=1000, tosses=10){\n",
    "    # Coin x Toss\n",
    "    experiment <- matrix(0, nrow=k, ncol=tosses)\n",
    "    # Run k experiments\n",
    "    for(i in c(1:k)){\n",
    "        experiment[i,] <- flip_coin(tosses)\n",
    "    }\n",
    "    # Freq of head for 1st coin\n",
    "    v_1 <- sum(experiment[1,])/10\n",
    "    # Freq of head for a random coin\n",
    "    r_idx  <- sample(c(1:k), size=1)\n",
    "    v_rand <- sum(experiment[r_idx,])/10\n",
    "    # Freq of head for min freq head coin\n",
    "    min_idx <- which.min(rowSums(experiment))\n",
    "    v_min   <- sum(experiment[min_idx,])/10\n",
    "    \n",
    "    return(c(v_1, v_rand, v_min))\n",
    "}"
   ]
  },
  {
   "cell_type": "code",
   "execution_count": 130,
   "metadata": {
    "ExecuteTime": {
     "end_time": "2020-04-09T00:43:47.685071Z",
     "start_time": "2020-04-09T00:43:47.656Z"
    }
   },
   "outputs": [
    {
     "name": "stdout",
     "output_type": "stream",
     "text": [
      "[1] \"v_1, v_rand, v_min\"\n"
     ]
    },
    {
     "data": {
      "text/html": [
       "<ol class=list-inline>\n",
       "\t<li>0,6</li>\n",
       "\t<li>0,7</li>\n",
       "\t<li>0</li>\n",
       "</ol>\n"
      ],
      "text/latex": [
       "\\begin{enumerate*}\n",
       "\\item 0,6\n",
       "\\item 0,7\n",
       "\\item 0\n",
       "\\end{enumerate*}\n"
      ],
      "text/markdown": [
       "1. 0,6\n",
       "2. 0,7\n",
       "3. 0\n",
       "\n",
       "\n"
      ],
      "text/plain": [
       "[1] 0,6 0,7 0,0"
      ]
     },
     "metadata": {},
     "output_type": "display_data"
    }
   ],
   "source": [
    "print(\"v_1, v_rand, v_min\")\n",
    "flip_k_coins(k=1000, tosses=10)"
   ]
  },
  {
   "cell_type": "code",
   "execution_count": 138,
   "metadata": {
    "ExecuteTime": {
     "end_time": "2020-04-09T17:34:47.712348Z",
     "start_time": "2020-04-09T17:34:47.698Z"
    }
   },
   "outputs": [],
   "source": [
    "run_n_experiments <- function(n=10^5){\n",
    "    experiments <- matrix(0, nrow=n, ncol=3)\n",
    "    for(i in c(1:n)){\n",
    "        experiments[i,] <- flip_k_coins(k=1000, tosses=10)\n",
    "    }\n",
    "    return(experiments)\n",
    "}"
   ]
  },
  {
   "cell_type": "code",
   "execution_count": 139,
   "metadata": {
    "ExecuteTime": {
     "end_time": "2020-04-09T17:39:48.425182Z",
     "start_time": "2020-04-09T17:34:51.597Z"
    }
   },
   "outputs": [],
   "source": [
    "data <- run_n_experiments(n=10^5)"
   ]
  },
  {
   "cell_type": "code",
   "execution_count": 135,
   "metadata": {
    "ExecuteTime": {
     "end_time": "2020-04-09T17:34:19.684927Z",
     "start_time": "2020-04-09T17:34:19.645Z"
    }
   },
   "outputs": [
    {
     "data": {
      "text/html": [
       "1e+05"
      ],
      "text/latex": [
       "1e+05"
      ],
      "text/markdown": [
       "1e+05"
      ],
      "text/plain": [
       "[1] 1e+05"
      ]
     },
     "metadata": {},
     "output_type": "display_data"
    }
   ],
   "source": []
  },
  {
   "cell_type": "code",
   "execution_count": 143,
   "metadata": {
    "ExecuteTime": {
     "end_time": "2020-04-09T17:40:16.477894Z",
     "start_time": "2020-04-09T17:40:16.450Z"
    }
   },
   "outputs": [
    {
     "data": {
      "text/html": [
       "0,03757"
      ],
      "text/latex": [
       "0,03757"
      ],
      "text/markdown": [
       "0,03757"
      ],
      "text/plain": [
       "[1] 0,03757"
      ]
     },
     "metadata": {},
     "output_type": "display_data"
    }
   ],
   "source": [
    "#mean(v_min)\n",
    "mean_v <- mean(data[,3])\n",
    "mean_v"
   ]
  },
  {
   "cell_type": "markdown",
   "metadata": {},
   "source": [
    "### 1. The average value of ν min is closest to:\n",
    "* **\\[a\\]** 0\n",
    "* **\\[b\\]** 0.01\n",
    "* **\\[c\\]** 0.1\n",
    "* **\\[d\\]** 0.5\n",
    "* **\\[e\\]** 0.67"
   ]
  },
  {
   "cell_type": "markdown",
   "metadata": {},
   "source": [
    "### Solution"
   ]
  },
  {
   "cell_type": "code",
   "execution_count": 144,
   "metadata": {
    "ExecuteTime": {
     "end_time": "2020-04-09T17:40:17.898309Z",
     "start_time": "2020-04-09T17:40:17.852Z"
    }
   },
   "outputs": [
    {
     "data": {
      "text/html": [
       "0,03757"
      ],
      "text/latex": [
       "0,03757"
      ],
      "text/markdown": [
       "0,03757"
      ],
      "text/plain": [
       "[1] 0,03757"
      ]
     },
     "metadata": {},
     "output_type": "display_data"
    },
    {
     "data": {
      "text/html": [
       "0,02757"
      ],
      "text/latex": [
       "0,02757"
      ],
      "text/markdown": [
       "0,02757"
      ],
      "text/plain": [
       "[1] 0,02757"
      ]
     },
     "metadata": {},
     "output_type": "display_data"
    },
    {
     "data": {
      "text/html": [
       "0,06243"
      ],
      "text/latex": [
       "0,06243"
      ],
      "text/markdown": [
       "0,06243"
      ],
      "text/plain": [
       "[1] 0,06243"
      ]
     },
     "metadata": {},
     "output_type": "display_data"
    },
    {
     "data": {
      "text/html": [
       "0,46243"
      ],
      "text/latex": [
       "0,46243"
      ],
      "text/markdown": [
       "0,46243"
      ],
      "text/plain": [
       "[1] 0,46243"
      ]
     },
     "metadata": {},
     "output_type": "display_data"
    },
    {
     "data": {
      "text/html": [
       "0,63243"
      ],
      "text/latex": [
       "0,63243"
      ],
      "text/markdown": [
       "0,63243"
      ],
      "text/plain": [
       "[1] 0,63243"
      ]
     },
     "metadata": {},
     "output_type": "display_data"
    }
   ],
   "source": [
    "abs(mean_v - 0)\n",
    "abs(mean_v - 0.01)\n",
    "abs(mean_v - 0.1)\n",
    "abs(mean_v - 0.5)\n",
    "abs(mean_v - 0.67)"
   ]
  },
  {
   "cell_type": "markdown",
   "metadata": {},
   "source": [
    "### Answer\n",
    "\n",
    "> The closest value for $\\nu$ is \n",
    ">\n",
    ">>**\\[b\\] 0.01**"
   ]
  },
  {
   "cell_type": "markdown",
   "metadata": {},
   "source": [
    "### 2. Which coin(s) has a distribution of $\\nu$ that satisfies the (single-bin) Hoeffding Inequality?\n",
    "\n",
    "* **\\[a\\]** $c_1$ only\n",
    "* **\\[b\\]** $c_{rand}$ only\n",
    "* **\\[c\\]** $c_{min}$ only\n",
    "* **\\[d\\]** $c_1$ and $c_{rand}$\n",
    "* **\\[e\\]** $c_{min}$ and $c_{rand}$"
   ]
  },
  {
   "cell_type": "markdown",
   "metadata": {},
   "source": [
    "### Solution"
   ]
  },
  {
   "cell_type": "code",
   "execution_count": 168,
   "metadata": {
    "ExecuteTime": {
     "end_time": "2020-04-09T18:17:46.256809Z",
     "start_time": "2020-04-09T18:17:46.082Z"
    },
    "scrolled": false
   },
   "outputs": [
    {
     "data": {
      "image/png": "[encoded data removed]",
      "text/plain": [
       "Plot with title “c_1 distribution”"
      ]
     },
     "metadata": {},
     "output_type": "display_data"
    },
    {
     "data": {
      "image/png": "[encoded data removed]",
      "text/plain": [
       "Plot with title “c_rand distribution”"
      ]
     },
     "metadata": {},
     "output_type": "display_data"
    },
    {
     "data": {
      "image/png": "[encoded data removed]",
      "text/plain": [
       "Plot with title “c_min distribution”"
      ]
     },
     "metadata": {},
     "output_type": "display_data"
    }
   ],
   "source": [
    "hist(data[,1], main=\"c_1 distribution\", col='steelblue', breaks=14)\n",
    "hist(data[,2], main=\"c_rand distribution\", col='steelblue', breaks=14)\n",
    "hist(data[,3], main=\"c_min distribution\", col='red', breaks=14)"
   ]
  },
  {
   "cell_type": "markdown",
   "metadata": {},
   "source": [
    "### Answer\n",
    "\n",
    "> Only $c_1$ and $c_{rand}$ satisfies the single-bin Hoeffding Inequality\n",
    ">\n",
    ">>**\\[d\\]** $c_1$ and $c_{rand}$"
   ]
  },
  {
   "cell_type": "markdown",
   "metadata": {},
   "source": [
    "## Error and Noise\n",
    "\n",
    "Consider the bin model for a hypothesis h that makes an error with probability μ in approximating a deterministic target function f (both h and f are binary functions).\n",
    "\n",
    "If we use the same h to approximate a noisy version of f given by:\n",
    "\n",
    "$$\\large P(y|x) = \\begin{cases} \n",
    "      \\lambda & y = f(x) \\\\\n",
    "      1-\\lambda & y \\neq f(x)\n",
    "   \\end{cases}\n",
    "$$"
   ]
  },
  {
   "cell_type": "markdown",
   "metadata": {},
   "source": [
    "3. What is the probability of error that h makes in approximating y?\n",
    "\n",
    "   *Hint: Two wrongs can make a right!*\n",
    "\n",
    "* **\\[a\\]** μ\n",
    "* **\\[b\\]** λ\n",
    "* **\\[c\\]** 1-μ\n",
    "* **\\[d\\]** (1 − λ) ∗ μ + λ ∗ (1 − μ)\n",
    "* **\\[e\\]** (1 − λ) ∗ (1 − μ) + λ ∗ μ"
   ]
  },
  {
   "cell_type": "markdown",
   "metadata": {},
   "source": [
    "### Solution\n",
    "\n",
    "In the first case\n",
    "\n",
    "> $\\text{\"error\"} \\equiv h(x) \\neq f(x)$\n",
    "\n",
    "So:\n",
    "\n",
    ">$$P[ h(x) \\neq f(x) ] = \\mu$$\n",
    ">\n",
    ">$$P[ h(x) = f(x) ] = 1-\\mu$$\n",
    "\n",
    "If we use the same h to approximate a noisy version of f (by [Law of Total Probability](https://en.wikipedia.org/wiki/Law_of_total_probability))\n",
    "\n",
    ">$$P[ h(x) \\neq y ] = (\\mu * P[y=f(x)]) + ((1-\\mu) * P[y \\neq f(x)])$$\n",
    ">\n",
    ">$$P[ h(x) \\neq y ] = (\\mu * \\lambda) + ((1-\\mu) * (1-\\lambda))$$\n",
    ">\n",
    ">$$\\large P\\left[ h(x) \\neq y \\right] = \\mu \\lambda + (1-\\mu) (1-\\lambda)$$"
   ]
  },
  {
   "cell_type": "markdown",
   "metadata": {},
   "source": [
    "### Answer\n",
    "\n",
    "> The probability of error that h makes in approximating y is \n",
    ">\n",
    ">>**\\[e\\]** $\\mu \\lambda + (1-\\mu) (1-\\lambda)$"
   ]
  },
  {
   "cell_type": "markdown",
   "metadata": {},
   "source": [
    "### 4. At what value of λ will the performance of h be independent of μ?\n",
    "\n",
    "* **\\[a\\]** 0\n",
    "* **\\[b\\]** 0.5\n",
    "* **\\[c\\]** 1/ √2\n",
    "* **\\[d\\]** 1\n",
    "* **\\[e\\]** No values of λ"
   ]
  },
  {
   "cell_type": "markdown",
   "metadata": {},
   "source": [
    "### Solution\n"
   ]
  },
  {
   "cell_type": "markdown",
   "metadata": {},
   "source": [
    "We know from 3. that\n",
    "> $P\\left[ h(x) \\neq y \\right] = \\mu \\lambda + (1-\\mu) (1-\\lambda)$\n",
    "\n",
    "We want to see if for some value of $\\lambda$, $\\mu$ dissapears from that equation:\n",
    "\n",
    "For $\\lambda = 0$:\n",
    "> $P\\left[ h(x) \\neq y \\right] = 1-\\mu$\n",
    "\n",
    "For $\\lambda = 0.5$:\n",
    "> $P\\left[ h(x) \\neq y \\right] = 0.5\\mu + 0.5(1-\\mu)$\n",
    ">\n",
    "> $P\\left[ h(x) \\neq y \\right] = 0.5\\mu - 0.5\\mu + 0.5$\n",
    ">\n",
    "> $P\\left[ h(x) \\neq y \\right] = 0.5$\n",
    "\n",
    "For the other values it always depends on $\\mu$.\n",
    "\n",
    "**Note:** Intuitively, is reasonable to think that if $P(y|x)$ is random with equal probabilty for each possible y, then whichever h we have, no matter the rate of error $\\mu$ over f, it always will make the same amount of error: half right, half wrong, randomly."
   ]
  },
  {
   "cell_type": "markdown",
   "metadata": {},
   "source": [
    "### Answer:\n",
    "\n",
    "> For $\\lambda = 0.5$ the performance of h will be independent of μ\n",
    ">\n",
    ">>**\\[b\\]** 0.5"
   ]
  }
 ],
 "metadata": {
  "kernelspec": {
   "display_name": "R",
   "language": "R",
   "name": "ir"
  },
  "language_info": {
   "codemirror_mode": "r",
   "file_extension": ".r",
   "mimetype": "text/x-r-source",
   "name": "R",
   "pygments_lexer": "r",
   "version": "3.6.0"
  },
  "toc": {
   "base_numbering": 1,
   "nav_menu": {},
   "number_sections": true,
   "sideBar": true,
   "skip_h1_title": false,
   "title_cell": "Table of Contents",
   "title_sidebar": "Contents",
   "toc_cell": false,
   "toc_position": {},
   "toc_section_display": true,
   "toc_window_display": false
  }
 },
 "nbformat": 4,
 "nbformat_minor": 2
}
